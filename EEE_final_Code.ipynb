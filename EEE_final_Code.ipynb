{
  "nbformat": 4,
  "nbformat_minor": 0,
  "metadata": {
    "colab": {
      "provenance": [],
      "authorship_tag": "ABX9TyNvqGYK5Zm6Ym6YpNRblmS3",
      "include_colab_link": true
    },
    "kernelspec": {
      "name": "python3",
      "display_name": "Python 3"
    },
    "language_info": {
      "name": "python"
    }
  },
  "cells": [
    {
      "cell_type": "markdown",
      "metadata": {
        "id": "view-in-github",
        "colab_type": "text"
      },
      "source": [
        "<a href=\"https://colab.research.google.com/github/Anirudh2465/EEG-Motor-Imagery-Classification-of-BCI-IV-2A-dataset/blob/main/EEE_final_Code.ipynb\" target=\"_parent\"><img src=\"https://colab.research.google.com/assets/colab-badge.svg\" alt=\"Open In Colab\"/></a>"
      ]
    },
    {
      "cell_type": "markdown",
      "source": [
        "# EEG Signal Classification and Analysis\n",
        "\n",
        "\n",
        "---\n",
        "\n"
      ],
      "metadata": {
        "id": "nacYubX9DkpU"
      }
    },
    {
      "cell_type": "markdown",
      "source": [
        "### Installing Libraries / Modules"
      ],
      "metadata": {
        "id": "wmfDZYhCDszj"
      }
    },
    {
      "cell_type": "code",
      "execution_count": null,
      "metadata": {
        "id": "WGPJf4HGDXhi",
        "colab": {
          "base_uri": "https://localhost:8080/"
        },
        "outputId": "8a59c727-f753-4361-f5fe-245d3f3e67df"
      },
      "outputs": [
        {
          "output_type": "stream",
          "name": "stdout",
          "text": [
            "Requirement already satisfied: scipy in /usr/local/lib/python3.10/dist-packages (1.11.4)\n",
            "Requirement already satisfied: numpy in /usr/local/lib/python3.10/dist-packages (1.25.2)\n",
            "Collecting pydmd\n",
            "  Downloading pydmd-1.0.0-py3-none-any.whl (169 kB)\n",
            "\u001b[2K     \u001b[90m━━━━━━━━━━━━━━━━━━━━━━━━━━━━━━━━━━━━━━━━\u001b[0m \u001b[32m169.5/169.5 kB\u001b[0m \u001b[31m4.4 MB/s\u001b[0m eta \u001b[36m0:00:00\u001b[0m\n",
            "\u001b[?25hRequirement already satisfied: matplotlib in /usr/local/lib/python3.10/dist-packages (from pydmd) (3.7.1)\n",
            "Requirement already satisfied: scikit-learn in /usr/local/lib/python3.10/dist-packages (from pydmd) (1.2.2)\n",
            "Requirement already satisfied: contourpy>=1.0.1 in /usr/local/lib/python3.10/dist-packages (from matplotlib->pydmd) (1.2.1)\n",
            "Requirement already satisfied: cycler>=0.10 in /usr/local/lib/python3.10/dist-packages (from matplotlib->pydmd) (0.12.1)\n",
            "Requirement already satisfied: fonttools>=4.22.0 in /usr/local/lib/python3.10/dist-packages (from matplotlib->pydmd) (4.53.0)\n",
            "Requirement already satisfied: kiwisolver>=1.0.1 in /usr/local/lib/python3.10/dist-packages (from matplotlib->pydmd) (1.4.5)\n",
            "Requirement already satisfied: packaging>=20.0 in /usr/local/lib/python3.10/dist-packages (from matplotlib->pydmd) (24.0)\n",
            "Requirement already satisfied: pillow>=6.2.0 in /usr/local/lib/python3.10/dist-packages (from matplotlib->pydmd) (9.4.0)\n",
            "Requirement already satisfied: pyparsing>=2.3.1 in /usr/local/lib/python3.10/dist-packages (from matplotlib->pydmd) (3.1.2)\n",
            "Requirement already satisfied: python-dateutil>=2.7 in /usr/local/lib/python3.10/dist-packages (from matplotlib->pydmd) (2.8.2)\n",
            "Requirement already satisfied: joblib>=1.1.1 in /usr/local/lib/python3.10/dist-packages (from scikit-learn->pydmd) (1.4.2)\n",
            "Requirement already satisfied: threadpoolctl>=2.0.0 in /usr/local/lib/python3.10/dist-packages (from scikit-learn->pydmd) (3.5.0)\n",
            "Requirement already satisfied: six>=1.5 in /usr/local/lib/python3.10/dist-packages (from python-dateutil>=2.7->matplotlib->pydmd) (1.16.0)\n",
            "Installing collected packages: pydmd\n",
            "Successfully installed pydmd-1.0.0\n"
          ]
        }
      ],
      "source": [
        "pip install scipy numpy pydmd"
      ]
    },
    {
      "cell_type": "code",
      "source": [
        "from sklearn.preprocessing import StandardScaler\n",
        "from sklearn.model_selection import train_test_split\n",
        "from sklearn.metrics import classification_report\n",
        "from sklearn.experimental import enable_hist_gradient_boosting\n",
        "from sklearn.ensemble import HistGradientBoostingClassifier\n",
        "from sklearn.ensemble import RandomForestClassifier\n",
        "from sklearn.ensemble import GradientBoostingClassifier\n",
        "from sklearn.tree import DecisionTreeClassifier\n",
        "from sklearn.metrics import precision_score, recall_score, f1_score, accuracy_score\n",
        "from sklearn.metrics import confusion_matrix\n",
        "import seaborn as sns\n",
        "import csv\n",
        "import numpy as np\n",
        "import matplotlib.pyplot as plt\n",
        "from scipy.stats import skew,kurtosis\n",
        "from sklearn import svm\n",
        "from pydmd import DMD\n",
        "from imblearn.over_sampling import SMOTE\n",
        "import scipy.stats as stats"
      ],
      "metadata": {
        "id": "JAX9suFxECdd",
        "colab": {
          "base_uri": "https://localhost:8080/"
        },
        "outputId": "632477ba-a9ab-4ec1-a8eb-f7d21bff1ee7"
      },
      "execution_count": null,
      "outputs": [
        {
          "output_type": "stream",
          "name": "stderr",
          "text": [
            "/usr/local/lib/python3.10/dist-packages/sklearn/experimental/enable_hist_gradient_boosting.py:16: UserWarning: Since version 1.0, it is not needed to import enable_hist_gradient_boosting anymore. HistGradientBoostingClassifier and HistGradientBoostingRegressor are now stable and can be normally imported from sklearn.ensemble.\n",
            "  warnings.warn(\n"
          ]
        }
      ]
    },
    {
      "cell_type": "markdown",
      "source": [
        "##**csv**\n",
        "\n",
        "Provides functions to read and write CSV files.     \n",
        "Usage: Handling data input and output in CSV format.\n",
        "\n",
        "\n",
        "##**imblearn.over_sampling**\n",
        "\n",
        "SMOTE: Synthetic Minority Over-sampling Technique.\n",
        "Usage: Handling class imbalance by oversampling the minority class.\n",
        "\n",
        "\n",
        "##**matplotlib.pyplot**\n",
        "\n",
        "A plotting library for creating static, animated, and interactive visualizations.\n",
        "Usage: Visualizing data.\n",
        "\n",
        "\n",
        "##**numpy**\n",
        "\n",
        "A fundamental package for scientific computing with support for large multidimensional arrays and matrices.\n",
        "Usage: Numerical operations on arrays and matrices.\n",
        "\n",
        "\n",
        "##**pydmd**\n",
        "\n",
        "DMD: Dynamic Mode Decomposition algorithm.\n",
        "Usage: Data-driven modeling and analysis of time series data.\n",
        "\n",
        "\n",
        "##**scipy.stats**\n",
        "\n",
        "Contains probability distributions and statistical functions.\n",
        "Usage: Statistical analysis and hypothesis testing.\n",
        "skew: Computes the skewness of a dataset.\n",
        "kurtosis: Computes the kurtosis of a dataset.\n",
        "\n",
        "\n",
        "##**seaborn**\n",
        "\n",
        "A statistical data visualization library.\n",
        "Usage: Creating attractive and informative statistical graphics.\n",
        "\n",
        "\n",
        "##**sklearn.ensemble**\n",
        "\n",
        "HistGradientBoostingClassifier: Histogram-based gradient boosting classifier.\n",
        "\n",
        "RandomForestClassifier: Ensemble of decision trees for classification and regression tasks.\n",
        "\n",
        "GradientBoostingClassifier: Gradient boosting classifier.\n",
        "\n",
        "Usage: Classification tasks and improving model performance through ensemble methods.\n",
        "\n",
        "\n",
        "##**sklearn.experimental**\n",
        "\n",
        "enable_hist_gradient_boosting: Enables the experimental histogram-based gradient boosting models.\n",
        "\n",
        "Usage: Allowing the use of experimental, faster gradient boosting models.\n",
        "sklearn.metrics\n",
        "\n",
        "classification_report: Builds a text report showing the main classification metrics.\n",
        "\n",
        "precision_score: Computes the precision.\n",
        "\n",
        "recall_score: Computes the recall.\n",
        "\n",
        "f1_score: Computes the F1 score.\n",
        "\n",
        "accuracy_score: Computes the accuracy.\n",
        "\n",
        "confusion_matrix: Computes the confusion matrix.\n",
        "\n",
        "Usage: Evaluating the performance of classification models.\n",
        "\n",
        "\n",
        "##**sklearn.model_selection**\n",
        "\n",
        "train_test_split: Splits arrays or matrices into random train and test subsets.\n",
        "\n",
        "Usage: Dividing the dataset into training and testing sets.\n",
        "\n",
        "\n",
        "##**sklearn.preprocessing**\n",
        "\n",
        "StandardScaler: Standardizes features by removing the mean and scaling to unit variance.\n",
        "\n",
        "Usage: Normalizing the feature set.\n",
        "\n",
        "\n",
        "##**sklearn.tree**\n",
        "\n",
        "DecisionTreeClassifier: A decision tree classifier.\n",
        "\n",
        "Usage: Classification tasks through decision rules inferred from the data features.\n",
        "\n",
        "\n",
        "##**sklearn**\n",
        "\n",
        "svm: Support Vector Machine algorithms.\n",
        "\n",
        "Usage: Classification, regression, and outlier detection tasks."
      ],
      "metadata": {
        "id": "Ow7wrLMsEEkC"
      }
    },
    {
      "cell_type": "markdown",
      "source": [
        "#**Functions**\n"
      ],
      "metadata": {
        "id": "D30mOhkjFtPU"
      }
    },
    {
      "cell_type": "markdown",
      "source": [
        "##**Part I –Getting Data**\n",
        "\n",
        "The CSV file containing all the data for all 22 channels was read and the data was collected based on the type of motion the human body performed during that time."
      ],
      "metadata": {
        "id": "81xmO7viGPPZ"
      }
    },
    {
      "cell_type": "code",
      "source": [
        "def get_data(val_for_data):\n",
        "  f = open(f\"/content/BCICIV_2a_{val_for_data}.csv\",\"r\")\n",
        "  R = csv.reader(f)\n",
        "  R = list(R)[1:]\n",
        "  f.close()\n",
        "  return R"
      ],
      "metadata": {
        "id": "MAiXj3XzFnyv"
      },
      "execution_count": null,
      "outputs": []
    },
    {
      "cell_type": "code",
      "source": [
        "def get_types(Data_values):\n",
        "  d={}\n",
        "  for i in range(len(Data_values)):\n",
        "    if Data_values[i][2] in d:\n",
        "      d[Data_values[i][2]]+=1\n",
        "    else:\n",
        "      d[Data_values[i][2]] = 1\n",
        "  return d"
      ],
      "metadata": {
        "id": "6pV42ojlFw33"
      },
      "execution_count": null,
      "outputs": []
    },
    {
      "cell_type": "code",
      "source": [
        "def get_channels_times(data_values,type_data):\n",
        "  r = data_values\n",
        "  times=[]\n",
        "  channel1=[]\n",
        "  channel2=[]\n",
        "  channel3=[]\n",
        "  channel4=[]\n",
        "  channel5=[]\n",
        "  channel6=[]\n",
        "  channel7=[]\n",
        "  channel8=[]\n",
        "  channel9=[]\n",
        "  channel10=[]\n",
        "  channel11=[]\n",
        "  channel12=[]\n",
        "  channel13=[]\n",
        "  channel14=[]\n",
        "  channel15=[]\n",
        "  channel16=[]\n",
        "  channel17=[]\n",
        "  channel18=[]\n",
        "  channel19=[]\n",
        "  channel20=[]\n",
        "  channel21=[]\n",
        "  channel22=[]\n",
        "  for i in range(len(r)):\n",
        "    if r[i][2]==type_data:\n",
        "      times.append(float(r[i][1]))\n",
        "      channel1.append(float(r[i][4]))\n",
        "      channel2.append(float(r[i][5]))\n",
        "      channel3.append(float(r[i][6]))\n",
        "      channel4.append(float(r[i][7]))\n",
        "      channel5.append(float(r[i][8]))\n",
        "      channel6.append(float(r[i][9]))\n",
        "      channel7.append(float(r[i][10]))\n",
        "      channel8.append(float(r[i][11]))\n",
        "      channel9.append(float(r[i][12]))\n",
        "      channel10.append(float(r[i][13]))\n",
        "      channel11.append(float(r[i][14]))\n",
        "      channel12.append(float(r[i][15]))\n",
        "      channel13.append(float(r[i][16]))\n",
        "      channel14.append(float(r[i][17]))\n",
        "      channel15.append(float(r[i][18]))\n",
        "      channel16.append(float(r[i][19]))\n",
        "      channel17.append(float(r[i][20]))\n",
        "      channel18.append(float(r[i][21]))\n",
        "      channel19.append(float(r[i][22]))\n",
        "      channel20.append(float(r[i][23]))\n",
        "      channel21.append(float(r[i][24]))\n",
        "      channel22.append(float(r[i][25]))\n",
        "  channel_data=[channel1,channel2,channel3,channel4,channel5,channel6,channel7,channel8,channel9,channel10,channel11,channel12,channel13,channel14,channel15,channel16,channel17,channel18,channel19,channel20,channel21,channel22]\n",
        "  return feature_extraction(type_data,channel_data,times)"
      ],
      "metadata": {
        "id": "x6rWoXgDFyOq"
      },
      "execution_count": null,
      "outputs": []
    },
    {
      "cell_type": "code",
      "source": [
        "def feature_extraction(type_data,channel_data,times):\n",
        "  features=[]\n",
        "  labels=[]\n",
        "  for i in range(0,len(times),201):\n",
        "    start = i\n",
        "    stop = i+201\n",
        "    l = []\n",
        "    for j in range(22):\n",
        "      channel_val = channel_data[j]\n",
        "      segment = channel_val[start:stop]\n",
        "      mean=np.mean(segment)\n",
        "      std = np.std(segment)\n",
        "      skewness = skew(segment)\n",
        "      kurt = kurtosis(segment)\n",
        "      maxval = max(segment)\n",
        "      minval = min(segment)\n",
        "      median = np.median(segment)\n",
        "      variance = np.var(segment,ddof = 1)\n",
        "      l.extend([segment])\n",
        "    features.append(l)\n",
        "    labels.append(type_data)\n",
        "  print(\"len of features : \" ,len(features) , \" len of labels: \" , len(labels))\n",
        "  return features,labels"
      ],
      "metadata": {
        "id": "Xq7i6VjOFzk-"
      },
      "execution_count": null,
      "outputs": []
    },
    {
      "cell_type": "code",
      "source": [
        "def splitting(Features,Labels):\n",
        "  scaler = StandardScaler()\n",
        "  Features_scaled = scaler.fit_transform(Features)\n",
        "  smote = SMOTE(k_neighbors=1)\n",
        "  smote.fit(Features_scaled,Labels)\n",
        "  val, labels = smote.fit_resample(Features,Labels)\n",
        "  X_train, X_test, y_train, y_test = train_test_split(val, labels, test_size=0.1, random_state=42)\n",
        "  return X_train, X_test, y_train, y_test"
      ],
      "metadata": {
        "id": "vjGfYMz9F2HG"
      },
      "execution_count": null,
      "outputs": []
    },
    {
      "cell_type": "code",
      "source": [
        "def model1(X_train,X_test, y_train, y_test):\n",
        "  model1 = HistGradientBoostingClassifier()\n",
        "  model1.fit(X_train, y_train)\n",
        "  print(\"Model 1 trained\")\n",
        "\n",
        "  pred1 = model1.predict(X_test)\n",
        "  accuracy = np.mean(pred1 == y_test)\n",
        "  print(f'Accuracy of model 1: {accuracy}')\n",
        "\n",
        "\n",
        "  # Calculate precision, recall, and F1 score\n",
        "  precision = precision_score(y_test, pred1, average='weighted')\n",
        "  recall = recall_score(y_test, pred1, average='weighted')\n",
        "  f1 = f1_score(y_test, pred1, average='weighted')\n",
        "\n",
        "  # Print the scores\n",
        "  print(f'Precision: {precision}')\n",
        "  print(f'Recall: {recall}')\n",
        "  print(f'F1 Score: {f1}')\n",
        "\n",
        "  # Generate confusion matrix\n",
        "  matrix = confusion_matrix(y_test, pred1)\n",
        "\n",
        "  # Create a heatmap\n",
        "  sns.heatmap(matrix, annot=True, fmt='d', cmap='Blues')\n",
        "\n",
        "  plt.title('Confusion Matrix')\n",
        "  plt.show()"
      ],
      "metadata": {
        "id": "MgHkrz40F3J5"
      },
      "execution_count": null,
      "outputs": []
    },
    {
      "cell_type": "code",
      "source": [
        "def model2(X_train, X_test, y_train, y_test):\n",
        "  model2 = svm.SVC()\n",
        "  model2.fit(X_train,y_train)\n",
        "  print(\"Model 2 trained\")\n",
        "\n",
        "  pred2 = model2.predict(X_test)\n",
        "  accuracy = accuracy_score(y_test, pred2)\n",
        "  print(f'Accuracy of model 2: {accuracy}')\n",
        "\n",
        "\n",
        "  # Calculate precision, recall, and F1 score\n",
        "  precision = precision_score(y_test, pred2, average='weighted')\n",
        "  recall = recall_score(y_test, pred2, average='weighted')\n",
        "  f1 = f1_score(y_test, pred2, average='weighted')\n",
        "\n",
        "  # Print the scores\n",
        "  print(f'Precision: {precision}')\n",
        "  print(f'Recall: {recall}')\n",
        "  print(f'F1 Score: {f1}')\n",
        "\n",
        "  # Generate confusion matrix\n",
        "  matrix = confusion_matrix(y_test, pred2)\n",
        "  sns.heatmap(matrix, annot=True, fmt='d', cmap='Blues')\n",
        "  plt.title(\"Confusion Matrix\")\n",
        "  plt.show()"
      ],
      "metadata": {
        "id": "VqTlS3kHF44p"
      },
      "execution_count": null,
      "outputs": []
    },
    {
      "cell_type": "code",
      "source": [
        "def model3(X_train, X_test, y_train, y_test):\n",
        "  model3 = RandomForestClassifier()\n",
        "  model3.fit(X_train,y_train)\n",
        "  print(\"Model 3 trained\")\n",
        "\n",
        "  pred3 = model3.predict(X_test)\n",
        "  accuracy = np.mean(pred3 == y_test)\n",
        "  print(f'Accuracy of model 3: {accuracy}')\n",
        "\n",
        "\n",
        "  # Calculate precision, recall, and F1 score\n",
        "  precision = precision_score(y_test, pred3, average='weighted')\n",
        "  recall = recall_score(y_test, pred3, average='weighted')\n",
        "  f1 = f1_score(y_test, pred3, average='weighted')\n",
        "\n",
        "  # Print the scores\n",
        "  print(f'Precision: {precision}')\n",
        "  print(f'Recall: {recall}')\n",
        "  print(f'F1 Score: {f1}')\n",
        "\n",
        "  # Generate confusion matrix\n",
        "  matrix = confusion_matrix(y_test, pred3)\n",
        "\n",
        "  # Create a heatmap\n",
        "  sns.heatmap(matrix, annot=True, fmt='d', cmap='Blues')\n",
        "\n",
        "  plt.title('Confusion Matrix')\n",
        "  plt.show()"
      ],
      "metadata": {
        "id": "IThOf1KpF5Y0"
      },
      "execution_count": null,
      "outputs": []
    },
    {
      "cell_type": "code",
      "source": [
        "def model4(X_train, X_test, y_train, y_test):\n",
        "  model4 = DecisionTreeClassifier()\n",
        "  model4.fit(X_train, y_train)\n",
        "\n",
        "\n",
        "  pred4 = model4.predict(X_test)\n",
        "  accuracy = np.mean(pred4 == y_test)\n",
        "  print(f'Accuracy of Decision Tree model: {accuracy}')\n",
        "\n",
        "  # Calculate precision, recall, and F1 score\n",
        "  precision = precision_score(y_test, pred4, average='weighted')\n",
        "  recall = recall_score(y_test, pred4, average='weighted')\n",
        "  f1 = f1_score(y_test, pred4, average='weighted')\n",
        "\n",
        "  # Print the scores\n",
        "  print(f'Precision: {precision}')\n",
        "  print(f'Recall: {recall}')\n",
        "  print(f'F1 Score: {f1}')\n",
        "\n",
        "  # Generate confusion matrix\n",
        "  matrix = confusion_matrix(y_test, pred4)\n",
        "\n",
        "  # Create a heatmap\n",
        "  sns.heatmap(matrix, annot=True, fmt='d', cmap='Blues')\n",
        "\n",
        "  plt.title('Confusion Matrix for Decision Tree')\n",
        "  plt.show()"
      ],
      "metadata": {
        "id": "u8Lcxm83F8m6"
      },
      "execution_count": null,
      "outputs": []
    },
    {
      "cell_type": "markdown",
      "source": [
        "## **Running of the program**"
      ],
      "metadata": {
        "id": "5G05WAopX757"
      }
    },
    {
      "cell_type": "code",
      "source": [
        "Data_values = []\n",
        "Files = [1]\n",
        "Features = []\n",
        "Labels = []\n",
        "for files in Files:\n",
        "  data_values = get_data(files)\n",
        "  Data_values.extend(data_values)\n",
        "type_data_Dict = get_types(Data_values)\n",
        "\n",
        "for type_data in type_data_Dict:\n",
        "  print(type_data)\n",
        "  features,labels = get_channels_times(Data_values,type_data)\n",
        "  Features.extend(features)\n",
        "  Labels.extend(labels)"
      ],
      "metadata": {
        "id": "bN7unOT-GA1y",
        "colab": {
          "base_uri": "https://localhost:8080/"
        },
        "outputId": "19624cc3-7ee4-4395-809c-cbd7731cde4c"
      },
      "execution_count": null,
      "outputs": [
        {
          "output_type": "stream",
          "name": "stdout",
          "text": [
            "tongue\n",
            "len of features :  72  len of labels:  72\n",
            "foot\n",
            "len of features :  72  len of labels:  72\n",
            "right\n",
            "len of features :  72  len of labels:  72\n",
            "left\n",
            "len of features :  72  len of labels:  72\n"
          ]
        }
      ]
    },
    {
      "cell_type": "code",
      "source": [
        "dmd = DMD(svd_rank = 0)\n",
        "dmd.fit(np.array(Features))\n",
        "Featuresdmd = dmd.modes.real"
      ],
      "metadata": {
        "id": "nVShjqU9YDoF",
        "colab": {
          "base_uri": "https://localhost:8080/"
        },
        "outputId": "70e43081-f0b4-44e4-c817-b76b6dae62a6"
      },
      "execution_count": null,
      "outputs": [
        {
          "output_type": "stream",
          "name": "stderr",
          "text": [
            "/usr/local/lib/python3.10/dist-packages/pydmd/snapshots.py:73: UserWarning: Input data condition number 2.075955208467768e+16. Consider preprocessing data, passing in augmented data\n",
            "matrix, or regularization methods.\n",
            "  warnings.warn(\n"
          ]
        }
      ]
    },
    {
      "cell_type": "code",
      "source": [
        "L = ['tongue', 'foot', 'right', 'left']\n",
        "Labelsdmd = []\n",
        "for i in L:\n",
        "  for j in range(len(Featuresdmd)//4):\n",
        "    Labelsdmd.append(i)\n",
        "Labelsdmd = np.array(Labelsdmd)"
      ],
      "metadata": {
        "id": "k9QBpuH-YFZU"
      },
      "execution_count": null,
      "outputs": []
    },
    {
      "cell_type": "code",
      "source": [
        "X_train, X_test, y_train, y_test=splitting(Featuresdmd,Labelsdmd)"
      ],
      "metadata": {
        "id": "bENVYb4CYIOz"
      },
      "execution_count": null,
      "outputs": []
    },
    {
      "cell_type": "code",
      "source": [
        "model1(X_train, X_test, y_train, y_test)"
      ],
      "metadata": {
        "id": "hqC1vJ94YJbY",
        "colab": {
          "base_uri": "https://localhost:8080/",
          "height": 539
        },
        "outputId": "46187f6f-ab2a-4c6a-e31d-96e1c7aca4ce"
      },
      "execution_count": null,
      "outputs": [
        {
          "output_type": "stream",
          "name": "stdout",
          "text": [
            "Model 1 trained\n",
            "Accuracy of model 1: 0.4968454258675079\n",
            "Precision: 0.5013315861551743\n",
            "Recall: 0.4968454258675079\n",
            "F1 Score: 0.49639448554054677\n"
          ]
        },
        {
          "output_type": "display_data",
          "data": {
            "text/plain": [
              "<Figure size 640x480 with 2 Axes>"
            ],
            "image/png": "[encoded data removed]"
          },
          "metadata": {}
        }
      ]
    },
    {
      "cell_type": "code",
      "source": [
        "model2(X_train, X_test, y_train, y_test)"
      ],
      "metadata": {
        "id": "MCNs0u-_YKKL",
        "colab": {
          "base_uri": "https://localhost:8080/",
          "height": 539
        },
        "outputId": "47070c5c-85b7-48da-bcd1-8141084918ca"
      },
      "execution_count": null,
      "outputs": [
        {
          "output_type": "stream",
          "name": "stdout",
          "text": [
            "Model 2 trained\n",
            "Accuracy of model 2: 0.6072555205047319\n",
            "Precision: 0.616446389967316\n",
            "Recall: 0.6072555205047319\n",
            "F1 Score: 0.6076566868968661\n"
          ]
        },
        {
          "output_type": "display_data",
          "data": {
            "text/plain": [
              "<Figure size 640x480 with 2 Axes>"
            ],
            "image/png": "[encoded data removed]"
          },
          "metadata": {}
        }
      ]
    },
    {
      "cell_type": "code",
      "source": [
        "model3(X_train, X_test, y_train, y_test)"
      ],
      "metadata": {
        "id": "4M1bk147YKtE",
        "colab": {
          "base_uri": "https://localhost:8080/",
          "height": 539
        },
        "outputId": "46b35cab-2d77-4cf7-96cd-5fd0f0fe66cc"
      },
      "execution_count": null,
      "outputs": [
        {
          "output_type": "stream",
          "name": "stdout",
          "text": [
            "Model 3 trained\n",
            "Accuracy of model 3: 0.5378548895899053\n",
            "Precision: 0.5485447160576142\n",
            "Recall: 0.5378548895899053\n",
            "F1 Score: 0.5391369361573568\n"
          ]
        },
        {
          "output_type": "display_data",
          "data": {
            "text/plain": [
              "<Figure size 640x480 with 2 Axes>"
            ],
            "image/png": "[encoded data removed]"
          },
          "metadata": {}
        }
      ]
    },
    {
      "cell_type": "code",
      "source": [
        "model4(X_train, X_test, y_train, y_test)"
      ],
      "metadata": {
        "id": "pMmjwZWcYLCq",
        "colab": {
          "base_uri": "https://localhost:8080/",
          "height": 521
        },
        "outputId": "27bdb391-d613-4864-e3ef-e8b9c1d4f44a"
      },
      "execution_count": null,
      "outputs": [
        {
          "output_type": "stream",
          "name": "stdout",
          "text": [
            "Accuracy of Decision Tree model: 0.3359621451104101\n",
            "Precision: 0.3362448189887882\n",
            "Recall: 0.3359621451104101\n",
            "F1 Score: 0.33533612945534624\n"
          ]
        },
        {
          "output_type": "display_data",
          "data": {
            "text/plain": [
              "<Figure size 640x480 with 2 Axes>"
            ],
            "image/png": "[encoded data removed]"
          },
          "metadata": {}
        }
      ]
    },
    {
      "cell_type": "code",
      "source": [],
      "metadata": {
        "id": "lAvpj8dKnqZN"
      },
      "execution_count": null,
      "outputs": []
    }
  ]
}